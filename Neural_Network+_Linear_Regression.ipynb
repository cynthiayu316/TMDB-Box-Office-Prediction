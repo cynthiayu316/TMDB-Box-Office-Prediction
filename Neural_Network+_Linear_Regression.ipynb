{
  "nbformat": 4,
  "nbformat_minor": 0,
  "metadata": {
    "colab": {
      "name": "Neural Network+ Linear Regression.ipynb",
      "provenance": []
    },
    "kernelspec": {
      "name": "python3",
      "display_name": "Python 3"
    },
    "language_info": {
      "name": "python"
    }
  },
  "cells": [
    {
      "cell_type": "code",
      "execution_count": 1,
      "metadata": {
        "colab": {
          "base_uri": "https://localhost:8080/"
        },
        "id": "8vhNViFbeoRd",
        "outputId": "53eacf45-2923-40c4-ec5d-94ec9bfa71db"
      },
      "outputs": [
        {
          "output_type": "stream",
          "name": "stdout",
          "text": [
            "Mounted at /content/drive\n"
          ]
        }
      ],
      "source": [
        "from google.colab import drive\n",
        "import os\n",
        "drive.mount('/content/drive')\n",
        "os.chdir('/content/drive/My Drive/AML _Final_report')"
      ]
    },
    {
      "cell_type": "code",
      "source": [
        "import pandas as pd\n",
        "import numpy as np\n",
        "from keras import Sequential, Model\n",
        "from keras.layers import Embedding, LSTM, Dense, Input, Bidirectional, RepeatVector, Concatenate, Activation\n",
        "from keras.layers import BatchNormalization,Dropout\n",
        "from sklearn.model_selection import train_test_split\n",
        "from sklearn.model_selection import KFold\n",
        "from tqdm import tqdm\n",
        "from sklearn.metrics import mean_squared_error as mse\n",
        "import lightgbm as lgb\n",
        "import time\n",
        "from sklearn.ensemble import HistGradientBoostingRegressor"
      ],
      "metadata": {
        "id": "x_ct7A_1fJC2"
      },
      "execution_count": 2,
      "outputs": []
    },
    {
      "cell_type": "code",
      "source": [
        "train = pd.read_csv('processed_train.csv')\n",
        "train.drop(columns = ['Unnamed: 0'], inplace = True)\n",
        "y = pd.read_csv('label_train.csv')\n",
        "y = y['revenue']\n",
        "test = pd.read_csv('processed_test.csv')\n",
        "test.drop(columns = ['Unnamed: 0'], inplace = True)"
      ],
      "metadata": {
        "id": "kh3EJ8kd6u3x"
      },
      "execution_count": 3,
      "outputs": []
    },
    {
      "cell_type": "markdown",
      "source": [
        "Neural Network"
      ],
      "metadata": {
        "id": "19AtBXUO_-9W"
      }
    },
    {
      "cell_type": "code",
      "source": [
        "NN_model = Sequential()\n",
        "\n",
        "NN_model.add(Dense(64, kernel_initializer='normal',input_dim = x_train.shape[1], activation='relu'))\n",
        "\n",
        "# The Hidden Layers :\n",
        "NN_model.add(Dense(32, kernel_initializer='normal',activation='relu'))\n",
        "\n",
        "# The Output Layer :\n",
        "NN_model.add(Dense(1, kernel_initializer='normal',activation='linear'))\n",
        "\n",
        "# Compile the network :\n",
        "NN_model.compile(loss='mean_absolute_error', optimizer='adam', metrics=['mean_absolute_error'])\n",
        "NN_model.summary()"
      ],
      "metadata": {
        "colab": {
          "base_uri": "https://localhost:8080/"
        },
        "id": "9KTK6cqFwDCv",
        "outputId": "307034f5-e211-452b-c456-de0e42bdd92b"
      },
      "execution_count": null,
      "outputs": [
        {
          "output_type": "stream",
          "name": "stdout",
          "text": [
            "Model: \"sequential\"\n",
            "_________________________________________________________________\n",
            " Layer (type)                Output Shape              Param #   \n",
            "=================================================================\n",
            " dense (Dense)               (None, 64)                14912     \n",
            "                                                                 \n",
            " dense_1 (Dense)             (None, 32)                2080      \n",
            "                                                                 \n",
            " dense_2 (Dense)             (None, 1)                 33        \n",
            "                                                                 \n",
            "=================================================================\n",
            "Total params: 17,025\n",
            "Trainable params: 17,025\n",
            "Non-trainable params: 0\n",
            "_________________________________________________________________\n"
          ]
        }
      ]
    },
    {
      "cell_type": "code",
      "source": [
        "# checkpoint_name = 'Weights-{epoch:03d}--{val_loss:.5f}.hdf5' \n",
        "# checkpoint = ModelCheckpoint(checkpoint_name, monitor='val_loss', verbose = 1, save_best_only = True, mode ='auto')\n",
        "# callbacks_list = [checkpoint]"
      ],
      "metadata": {
        "id": "v8l3lYPDxeyr"
      },
      "execution_count": null,
      "outputs": []
    },
    {
      "cell_type": "code",
      "source": [
        "test.fillna(test.mode().iloc[0], inplace = True)"
      ],
      "metadata": {
        "id": "gTZBAfjSRyid"
      },
      "execution_count": null,
      "outputs": []
    },
    {
      "cell_type": "code",
      "source": [
        "# NN\n",
        "k=10\n",
        "kf = KFold(n_splits=k,\n",
        "            shuffle=True,\n",
        "            random_state=int(time.time()))\n",
        "\n",
        "list_of_train_index = []\n",
        "list_of_valid_index = []\n",
        "\n",
        "for train_index, valid_index in kf.split(np.zeros(len(y)), # Placeholder (dummy input)\n",
        "                                          y): # True input\n",
        "    \n",
        "    list_of_train_index.append(train_index)\n",
        "    list_of_valid_index.append(valid_index)\n",
        "\n",
        "    \n",
        "preds_train = np.zeros([len(train),k])\n",
        "preds_val = np.zeros([len(list_of_valid_index[0]),k])\n",
        "preds_test = np.zeros([len(test),k])\n",
        "\n",
        "log_rmse_train = []\n",
        "log_rmse_val = []\n",
        "\n",
        "for j in tqdm(range(k)):   \n",
        "    x_train = train.loc[list_of_train_index[j], :]\n",
        "    x_valid = train.loc[list_of_valid_index[j], :]\n",
        "    \n",
        "    y_true_train = np.array(y[list_of_train_index[j]])\n",
        "    y_true_valid = np.array(y[list_of_valid_index[j]])\n",
        "    # print(type(y_true_train))\n",
        "    # print(x_train.shape)\n",
        "    # print(type(x_train))\n",
        "    # # print(np.)\n",
        "    # print(x_valid.shape)\n",
        "    # print(test.shape)\n",
        "    # print('--------------')\n",
        "    NN_model = Sequential()\n",
        "\n",
        "    NN_model.add(Dense(64, kernel_initializer='normal',input_dim = x_train.shape[1], activation='relu'))\n",
        "    # NN_model.add(Dropout(0.5))\n",
        "    # NN_model.add(BatchNormalization())\n",
        "    # The Hidden Layers :\n",
        "    NN_model.add(Dense(32, kernel_initializer='normal',activation='relu'))\n",
        "    # NN_model.add(BatchNormalization())\n",
        "    # NN_model.add(Dense(32, kernel_initializer='normal',activation='relu'))\n",
        "\n",
        "\n",
        "    # The Output Layer :\n",
        "    NN_model.add(Dense(1, kernel_initializer='normal',activation='linear'))\n",
        "\n",
        "    # Compile the network :\n",
        "    NN_model.compile(loss='mean_squared_error', optimizer='adam', metrics=['mean_squared_error'])\n",
        "    NN_model.fit(x_train,y_true_train, epochs=10, batch_size=100)\n",
        "    preds_train[:,j] = NN_model.predict(train).reshape(train.shape[0],)\n",
        "    preds_val[:,j] = NN_model.predict(x_valid).reshape(x_valid.shape[0],)\n",
        "    preds_test[:,j] = NN_model.predict(test).reshape(test.shape[0],)\n",
        "    \n",
        "    log_rmse_train.append(np.sqrt(mse(preds_train[:,j],y)))\n",
        "    log_rmse_val.append(np.sqrt(mse(preds_val[:,j],y_true_valid)))\n",
        "final_preds_lgb = preds_test.mean(axis=1)"
      ],
      "metadata": {
        "colab": {
          "base_uri": "https://localhost:8080/"
        },
        "id": "QwC7xjgaFlR8",
        "outputId": "3f830e7b-7a51-47f6-8eb9-ee41de626dc5"
      },
      "execution_count": null,
      "outputs": [
        {
          "output_type": "stream",
          "name": "stderr",
          "text": [
            "\r  0%|          | 0/10 [00:00<?, ?it/s]"
          ]
        },
        {
          "output_type": "stream",
          "name": "stdout",
          "text": [
            "Epoch 1/10\n",
            "27/27 [==============================] - 1s 6ms/step - loss: 225.7565 - mean_squared_error: 225.7565\n",
            "Epoch 2/10\n",
            "27/27 [==============================] - 0s 6ms/step - loss: 14.6556 - mean_squared_error: 14.6556\n",
            "Epoch 3/10\n",
            "27/27 [==============================] - 0s 4ms/step - loss: 9.4178 - mean_squared_error: 9.4178\n",
            "Epoch 4/10\n",
            "27/27 [==============================] - 0s 5ms/step - loss: 8.8643 - mean_squared_error: 8.8643\n",
            "Epoch 5/10\n",
            "27/27 [==============================] - 0s 5ms/step - loss: 8.5632 - mean_squared_error: 8.5632\n",
            "Epoch 6/10\n",
            "27/27 [==============================] - 0s 5ms/step - loss: 8.4147 - mean_squared_error: 8.4147\n",
            "Epoch 7/10\n",
            "27/27 [==============================] - 0s 4ms/step - loss: 8.2346 - mean_squared_error: 8.2346\n",
            "Epoch 8/10\n",
            "27/27 [==============================] - 0s 5ms/step - loss: 8.3082 - mean_squared_error: 8.3082\n",
            "Epoch 9/10\n",
            "27/27 [==============================] - 0s 5ms/step - loss: 8.4556 - mean_squared_error: 8.4556\n",
            "Epoch 10/10\n",
            "27/27 [==============================] - 0s 6ms/step - loss: 8.0296 - mean_squared_error: 8.0296\n"
          ]
        },
        {
          "output_type": "stream",
          "name": "stderr",
          "text": [
            "\r 10%|█         | 1/10 [00:04<00:42,  4.74s/it]"
          ]
        },
        {
          "output_type": "stream",
          "name": "stdout",
          "text": [
            "Epoch 1/10\n",
            "27/27 [==============================] - 1s 3ms/step - loss: 54.4323 - mean_squared_error: 54.4323\n",
            "Epoch 2/10\n",
            "27/27 [==============================] - 0s 3ms/step - loss: 9.7280 - mean_squared_error: 9.7280\n",
            "Epoch 3/10\n",
            "27/27 [==============================] - 0s 3ms/step - loss: 8.9208 - mean_squared_error: 8.9208\n",
            "Epoch 4/10\n",
            "27/27 [==============================] - 0s 3ms/step - loss: 8.5131 - mean_squared_error: 8.5131\n",
            "Epoch 5/10\n",
            "27/27 [==============================] - 0s 3ms/step - loss: 8.3326 - mean_squared_error: 8.3326\n",
            "Epoch 6/10\n",
            "27/27 [==============================] - 0s 3ms/step - loss: 8.1612 - mean_squared_error: 8.1612\n",
            "Epoch 7/10\n",
            "27/27 [==============================] - 0s 3ms/step - loss: 8.0983 - mean_squared_error: 8.0983\n",
            "Epoch 8/10\n",
            "27/27 [==============================] - 0s 3ms/step - loss: 8.2546 - mean_squared_error: 8.2546\n",
            "Epoch 9/10\n",
            "27/27 [==============================] - 0s 4ms/step - loss: 7.7835 - mean_squared_error: 7.7835\n",
            "Epoch 10/10\n",
            "27/27 [==============================] - 0s 5ms/step - loss: 7.6801 - mean_squared_error: 7.6801\n"
          ]
        },
        {
          "output_type": "stream",
          "name": "stderr",
          "text": [
            "\r 20%|██        | 2/10 [00:07<00:29,  3.74s/it]"
          ]
        },
        {
          "output_type": "stream",
          "name": "stdout",
          "text": [
            "Epoch 1/10\n",
            "27/27 [==============================] - 1s 3ms/step - loss: 650.6415 - mean_squared_error: 650.6415\n",
            "Epoch 2/10\n",
            "27/27 [==============================] - 0s 3ms/step - loss: 21.3245 - mean_squared_error: 21.3245\n",
            "Epoch 3/10\n",
            "27/27 [==============================] - 0s 3ms/step - loss: 9.4493 - mean_squared_error: 9.4493\n",
            "Epoch 4/10\n",
            "27/27 [==============================] - 0s 3ms/step - loss: 8.8404 - mean_squared_error: 8.8404\n",
            "Epoch 5/10\n",
            "27/27 [==============================] - 0s 3ms/step - loss: 8.8146 - mean_squared_error: 8.8146\n",
            "Epoch 6/10\n",
            "27/27 [==============================] - 0s 3ms/step - loss: 8.7141 - mean_squared_error: 8.7141\n",
            "Epoch 7/10\n",
            "27/27 [==============================] - 0s 3ms/step - loss: 8.2994 - mean_squared_error: 8.2994\n",
            "Epoch 8/10\n",
            "27/27 [==============================] - 0s 3ms/step - loss: 8.2860 - mean_squared_error: 8.2860\n",
            "Epoch 9/10\n",
            "27/27 [==============================] - 0s 5ms/step - loss: 8.0597 - mean_squared_error: 8.0597\n",
            "Epoch 10/10\n",
            "27/27 [==============================] - 0s 5ms/step - loss: 7.9191 - mean_squared_error: 7.9191\n"
          ]
        },
        {
          "output_type": "stream",
          "name": "stderr",
          "text": [
            "\r 30%|███       | 3/10 [00:10<00:22,  3.19s/it]"
          ]
        },
        {
          "output_type": "stream",
          "name": "stdout",
          "text": [
            "Epoch 1/10\n",
            "27/27 [==============================] - 0s 2ms/step - loss: 42.1456 - mean_squared_error: 42.1456\n",
            "Epoch 2/10\n",
            "27/27 [==============================] - 0s 2ms/step - loss: 9.8080 - mean_squared_error: 9.8080\n",
            "Epoch 3/10\n",
            "27/27 [==============================] - 0s 2ms/step - loss: 8.9772 - mean_squared_error: 8.9772\n",
            "Epoch 4/10\n",
            "27/27 [==============================] - 0s 2ms/step - loss: 9.1803 - mean_squared_error: 9.1803\n",
            "Epoch 5/10\n",
            "27/27 [==============================] - 0s 2ms/step - loss: 10.3007 - mean_squared_error: 10.3007\n",
            "Epoch 6/10\n",
            "27/27 [==============================] - 0s 2ms/step - loss: 10.9230 - mean_squared_error: 10.9230\n",
            "Epoch 7/10\n",
            "27/27 [==============================] - 0s 2ms/step - loss: 8.7988 - mean_squared_error: 8.7988\n",
            "Epoch 8/10\n",
            "27/27 [==============================] - 0s 2ms/step - loss: 7.8009 - mean_squared_error: 7.8009\n",
            "Epoch 9/10\n",
            "27/27 [==============================] - 0s 3ms/step - loss: 7.8513 - mean_squared_error: 7.8513\n",
            "Epoch 10/10\n",
            "27/27 [==============================] - 0s 2ms/step - loss: 7.7944 - mean_squared_error: 7.7944\n"
          ]
        },
        {
          "output_type": "stream",
          "name": "stderr",
          "text": [
            "\r 40%|████      | 4/10 [00:12<00:16,  2.80s/it]"
          ]
        },
        {
          "output_type": "stream",
          "name": "stdout",
          "text": [
            "Epoch 1/10\n",
            "27/27 [==============================] - 0s 2ms/step - loss: 28.5684 - mean_squared_error: 28.5684\n",
            "Epoch 2/10\n",
            "27/27 [==============================] - 0s 2ms/step - loss: 9.3056 - mean_squared_error: 9.3056\n",
            "Epoch 3/10\n",
            "27/27 [==============================] - 0s 2ms/step - loss: 9.1464 - mean_squared_error: 9.1464\n",
            "Epoch 4/10\n",
            "27/27 [==============================] - 0s 2ms/step - loss: 8.6465 - mean_squared_error: 8.6465\n",
            "Epoch 5/10\n",
            "27/27 [==============================] - 0s 2ms/step - loss: 8.2277 - mean_squared_error: 8.2277\n",
            "Epoch 6/10\n",
            "27/27 [==============================] - 0s 2ms/step - loss: 8.0980 - mean_squared_error: 8.0980\n",
            "Epoch 7/10\n",
            "27/27 [==============================] - 0s 2ms/step - loss: 8.4691 - mean_squared_error: 8.4691\n",
            "Epoch 8/10\n",
            "27/27 [==============================] - 0s 2ms/step - loss: 8.5617 - mean_squared_error: 8.5617\n",
            "Epoch 9/10\n",
            "27/27 [==============================] - 0s 2ms/step - loss: 8.0622 - mean_squared_error: 8.0622\n",
            "Epoch 10/10\n",
            "27/27 [==============================] - 0s 2ms/step - loss: 7.6550 - mean_squared_error: 7.6550\n"
          ]
        },
        {
          "output_type": "stream",
          "name": "stderr",
          "text": [
            "\r 50%|█████     | 5/10 [00:13<00:11,  2.32s/it]"
          ]
        },
        {
          "output_type": "stream",
          "name": "stdout",
          "text": [
            "Epoch 1/10\n",
            "27/27 [==============================] - 0s 2ms/step - loss: 484.1562 - mean_squared_error: 484.1562\n",
            "Epoch 2/10\n",
            "27/27 [==============================] - 0s 2ms/step - loss: 35.2008 - mean_squared_error: 35.2008\n",
            "Epoch 3/10\n",
            "27/27 [==============================] - 0s 2ms/step - loss: 11.1151 - mean_squared_error: 11.1151\n",
            "Epoch 4/10\n",
            "27/27 [==============================] - 0s 2ms/step - loss: 8.8593 - mean_squared_error: 8.8593\n",
            "Epoch 5/10\n",
            "27/27 [==============================] - 0s 2ms/step - loss: 8.5502 - mean_squared_error: 8.5502\n",
            "Epoch 6/10\n",
            "27/27 [==============================] - 0s 2ms/step - loss: 8.3603 - mean_squared_error: 8.3603\n",
            "Epoch 7/10\n",
            "27/27 [==============================] - 0s 2ms/step - loss: 8.1898 - mean_squared_error: 8.1898\n",
            "Epoch 8/10\n",
            "27/27 [==============================] - 0s 2ms/step - loss: 8.1002 - mean_squared_error: 8.1002\n",
            "Epoch 9/10\n",
            "27/27 [==============================] - 0s 2ms/step - loss: 8.0386 - mean_squared_error: 8.0386\n",
            "Epoch 10/10\n",
            "27/27 [==============================] - 0s 2ms/step - loss: 7.9956 - mean_squared_error: 7.9956\n"
          ]
        },
        {
          "output_type": "stream",
          "name": "stderr",
          "text": [
            "\r 60%|██████    | 6/10 [00:15<00:08,  2.05s/it]"
          ]
        },
        {
          "output_type": "stream",
          "name": "stdout",
          "text": [
            "Epoch 1/10\n",
            "27/27 [==============================] - 0s 2ms/step - loss: 45.5539 - mean_squared_error: 45.5539\n",
            "Epoch 2/10\n",
            "27/27 [==============================] - 0s 2ms/step - loss: 9.4617 - mean_squared_error: 9.4617\n",
            "Epoch 3/10\n",
            "27/27 [==============================] - 0s 2ms/step - loss: 8.6178 - mean_squared_error: 8.6178\n",
            "Epoch 4/10\n",
            "27/27 [==============================] - 0s 2ms/step - loss: 8.2914 - mean_squared_error: 8.2914\n",
            "Epoch 5/10\n",
            "27/27 [==============================] - 0s 2ms/step - loss: 8.8914 - mean_squared_error: 8.8914\n",
            "Epoch 6/10\n",
            "27/27 [==============================] - 0s 2ms/step - loss: 8.3594 - mean_squared_error: 8.3594\n",
            "Epoch 7/10\n",
            "27/27 [==============================] - 0s 2ms/step - loss: 7.8574 - mean_squared_error: 7.8574\n",
            "Epoch 8/10\n",
            "27/27 [==============================] - 0s 2ms/step - loss: 7.6413 - mean_squared_error: 7.6413\n",
            "Epoch 9/10\n",
            "27/27 [==============================] - 0s 2ms/step - loss: 8.0301 - mean_squared_error: 8.0301\n",
            "Epoch 10/10\n",
            "27/27 [==============================] - 0s 2ms/step - loss: 8.0517 - mean_squared_error: 8.0517\n"
          ]
        },
        {
          "output_type": "stream",
          "name": "stderr",
          "text": [
            "\r 70%|███████   | 7/10 [00:16<00:05,  1.86s/it]"
          ]
        },
        {
          "output_type": "stream",
          "name": "stdout",
          "text": [
            "Epoch 1/10\n",
            "27/27 [==============================] - 0s 2ms/step - loss: 83.3553 - mean_squared_error: 83.3553\n",
            "Epoch 2/10\n",
            "27/27 [==============================] - 0s 2ms/step - loss: 14.1608 - mean_squared_error: 14.1608\n",
            "Epoch 3/10\n",
            "27/27 [==============================] - 0s 2ms/step - loss: 8.9737 - mean_squared_error: 8.9737\n",
            "Epoch 4/10\n",
            "27/27 [==============================] - 0s 2ms/step - loss: 8.4687 - mean_squared_error: 8.4687\n",
            "Epoch 5/10\n",
            "27/27 [==============================] - 0s 2ms/step - loss: 8.3352 - mean_squared_error: 8.3352\n",
            "Epoch 6/10\n",
            "27/27 [==============================] - 0s 2ms/step - loss: 8.1393 - mean_squared_error: 8.1393\n",
            "Epoch 7/10\n",
            "27/27 [==============================] - 0s 2ms/step - loss: 7.9921 - mean_squared_error: 7.9921\n",
            "Epoch 8/10\n",
            "27/27 [==============================] - 0s 2ms/step - loss: 7.8758 - mean_squared_error: 7.8758\n",
            "Epoch 9/10\n",
            "27/27 [==============================] - 0s 2ms/step - loss: 7.8587 - mean_squared_error: 7.8587\n",
            "Epoch 10/10\n",
            "27/27 [==============================] - 0s 2ms/step - loss: 7.7180 - mean_squared_error: 7.7180\n"
          ]
        },
        {
          "output_type": "stream",
          "name": "stderr",
          "text": [
            "\r 80%|████████  | 8/10 [00:18<00:03,  1.73s/it]"
          ]
        },
        {
          "output_type": "stream",
          "name": "stdout",
          "text": [
            "Epoch 1/10\n",
            "27/27 [==============================] - 0s 2ms/step - loss: 82.9082 - mean_squared_error: 82.9082\n",
            "Epoch 2/10\n",
            "27/27 [==============================] - 0s 2ms/step - loss: 11.1818 - mean_squared_error: 11.1818\n",
            "Epoch 3/10\n",
            "27/27 [==============================] - 0s 2ms/step - loss: 8.3846 - mean_squared_error: 8.3846\n",
            "Epoch 4/10\n",
            "27/27 [==============================] - 0s 2ms/step - loss: 8.0868 - mean_squared_error: 8.0868\n",
            "Epoch 5/10\n",
            "27/27 [==============================] - 0s 2ms/step - loss: 7.8548 - mean_squared_error: 7.8548\n",
            "Epoch 6/10\n",
            "27/27 [==============================] - 0s 2ms/step - loss: 7.6226 - mean_squared_error: 7.6226\n",
            "Epoch 7/10\n",
            "27/27 [==============================] - 0s 2ms/step - loss: 7.6057 - mean_squared_error: 7.6057\n",
            "Epoch 8/10\n",
            "27/27 [==============================] - 0s 2ms/step - loss: 7.7070 - mean_squared_error: 7.7070\n",
            "Epoch 9/10\n",
            "27/27 [==============================] - 0s 2ms/step - loss: 7.3166 - mean_squared_error: 7.3166\n",
            "Epoch 10/10\n",
            "27/27 [==============================] - 0s 2ms/step - loss: 7.3505 - mean_squared_error: 7.3505\n"
          ]
        },
        {
          "output_type": "stream",
          "name": "stderr",
          "text": [
            "\r 90%|█████████ | 9/10 [00:19<00:01,  1.66s/it]"
          ]
        },
        {
          "output_type": "stream",
          "name": "stdout",
          "text": [
            "Epoch 1/10\n",
            "27/27 [==============================] - 0s 2ms/step - loss: 65.0427 - mean_squared_error: 65.0427\n",
            "Epoch 2/10\n",
            "27/27 [==============================] - 0s 2ms/step - loss: 11.0396 - mean_squared_error: 11.0396\n",
            "Epoch 3/10\n",
            "27/27 [==============================] - 0s 2ms/step - loss: 9.0475 - mean_squared_error: 9.0475\n",
            "Epoch 4/10\n",
            "27/27 [==============================] - 0s 2ms/step - loss: 8.8322 - mean_squared_error: 8.8322\n",
            "Epoch 5/10\n",
            "27/27 [==============================] - 0s 2ms/step - loss: 8.5734 - mean_squared_error: 8.5734\n",
            "Epoch 6/10\n",
            "27/27 [==============================] - 0s 2ms/step - loss: 8.6631 - mean_squared_error: 8.6631\n",
            "Epoch 7/10\n",
            "27/27 [==============================] - 0s 2ms/step - loss: 8.4839 - mean_squared_error: 8.4839\n",
            "Epoch 8/10\n",
            "27/27 [==============================] - 0s 2ms/step - loss: 8.3099 - mean_squared_error: 8.3099\n",
            "Epoch 9/10\n",
            "27/27 [==============================] - 0s 2ms/step - loss: 8.1755 - mean_squared_error: 8.1755\n",
            "Epoch 10/10\n",
            "27/27 [==============================] - 0s 2ms/step - loss: 8.0223 - mean_squared_error: 8.0223\n"
          ]
        },
        {
          "output_type": "stream",
          "name": "stderr",
          "text": [
            "100%|██████████| 10/10 [00:21<00:00,  2.14s/it]\n"
          ]
        }
      ]
    },
    {
      "cell_type": "code",
      "source": [
        "np.mean(log_rmse_train)"
      ],
      "metadata": {
        "colab": {
          "base_uri": "https://localhost:8080/"
        },
        "id": "GSDO0bZbBxCV",
        "outputId": "7c6e35b0-44fb-4900-b366-f0a36866b61c"
      },
      "execution_count": null,
      "outputs": [
        {
          "output_type": "execute_result",
          "data": {
            "text/plain": [
              "2.763757030782901"
            ]
          },
          "metadata": {},
          "execution_count": 55
        }
      ]
    },
    {
      "cell_type": "code",
      "source": [
        "np.mean(log_rmse_val)"
      ],
      "metadata": {
        "colab": {
          "base_uri": "https://localhost:8080/"
        },
        "id": "pPKuwpa6B5qv",
        "outputId": "5fe5bdd6-98cb-403f-d2da-4552cb700c6b"
      },
      "execution_count": null,
      "outputs": [
        {
          "output_type": "execute_result",
          "data": {
            "text/plain": [
              "2.768222144866415"
            ]
          },
          "metadata": {},
          "execution_count": 56
        }
      ]
    },
    {
      "cell_type": "code",
      "source": [
        "sub = pd.read_csv('sample_submission.csv')\n",
        "sub.revenue = np.exp(final_preds_lgb)\n",
        "sub.to_csv('sub_NN3.csv',index=False)\n",
        "sub"
      ],
      "metadata": {
        "colab": {
          "base_uri": "https://localhost:8080/",
          "height": 423
        },
        "id": "4ds-tK4aJyrh",
        "outputId": "3935b6c0-8a04-42fb-ba91-e0770f8f513e"
      },
      "execution_count": null,
      "outputs": [
        {
          "output_type": "execute_result",
          "data": {
            "text/plain": [
              "        id       revenue\n",
              "0     3001  4.520913e+06\n",
              "1     3002  3.469366e+06\n",
              "2     3003  8.187650e+06\n",
              "3     3004  2.047239e+07\n",
              "4     3005  5.209558e+06\n",
              "...    ...           ...\n",
              "4393  7394  9.583094e+06\n",
              "4394  7395  4.710043e+07\n",
              "4395  7396  1.197763e+07\n",
              "4396  7397  7.979318e+06\n",
              "4397  7398  7.549522e+06\n",
              "\n",
              "[4398 rows x 2 columns]"
            ],
            "text/html": [
              "\n",
              "  <div id=\"df-f305cd46-79d6-4484-a764-1d0a70d1c2b9\">\n",
              "    <div class=\"colab-df-container\">\n",
              "      <div>\n",
              "<style scoped>\n",
              "    .dataframe tbody tr th:only-of-type {\n",
              "        vertical-align: middle;\n",
              "    }\n",
              "\n",
              "    .dataframe tbody tr th {\n",
              "        vertical-align: top;\n",
              "    }\n",
              "\n",
              "    .dataframe thead th {\n",
              "        text-align: right;\n",
              "    }\n",
              "</style>\n",
              "<table border=\"1\" class=\"dataframe\">\n",
              "  <thead>\n",
              "    <tr style=\"text-align: right;\">\n",
              "      <th></th>\n",
              "      <th>id</th>\n",
              "      <th>revenue</th>\n",
              "    </tr>\n",
              "  </thead>\n",
              "  <tbody>\n",
              "    <tr>\n",
              "      <th>0</th>\n",
              "      <td>3001</td>\n",
              "      <td>4.520913e+06</td>\n",
              "    </tr>\n",
              "    <tr>\n",
              "      <th>1</th>\n",
              "      <td>3002</td>\n",
              "      <td>3.469366e+06</td>\n",
              "    </tr>\n",
              "    <tr>\n",
              "      <th>2</th>\n",
              "      <td>3003</td>\n",
              "      <td>8.187650e+06</td>\n",
              "    </tr>\n",
              "    <tr>\n",
              "      <th>3</th>\n",
              "      <td>3004</td>\n",
              "      <td>2.047239e+07</td>\n",
              "    </tr>\n",
              "    <tr>\n",
              "      <th>4</th>\n",
              "      <td>3005</td>\n",
              "      <td>5.209558e+06</td>\n",
              "    </tr>\n",
              "    <tr>\n",
              "      <th>...</th>\n",
              "      <td>...</td>\n",
              "      <td>...</td>\n",
              "    </tr>\n",
              "    <tr>\n",
              "      <th>4393</th>\n",
              "      <td>7394</td>\n",
              "      <td>9.583094e+06</td>\n",
              "    </tr>\n",
              "    <tr>\n",
              "      <th>4394</th>\n",
              "      <td>7395</td>\n",
              "      <td>4.710043e+07</td>\n",
              "    </tr>\n",
              "    <tr>\n",
              "      <th>4395</th>\n",
              "      <td>7396</td>\n",
              "      <td>1.197763e+07</td>\n",
              "    </tr>\n",
              "    <tr>\n",
              "      <th>4396</th>\n",
              "      <td>7397</td>\n",
              "      <td>7.979318e+06</td>\n",
              "    </tr>\n",
              "    <tr>\n",
              "      <th>4397</th>\n",
              "      <td>7398</td>\n",
              "      <td>7.549522e+06</td>\n",
              "    </tr>\n",
              "  </tbody>\n",
              "</table>\n",
              "<p>4398 rows × 2 columns</p>\n",
              "</div>\n",
              "      <button class=\"colab-df-convert\" onclick=\"convertToInteractive('df-f305cd46-79d6-4484-a764-1d0a70d1c2b9')\"\n",
              "              title=\"Convert this dataframe to an interactive table.\"\n",
              "              style=\"display:none;\">\n",
              "        \n",
              "  <svg xmlns=\"http://www.w3.org/2000/svg\" height=\"24px\"viewBox=\"0 0 24 24\"\n",
              "       width=\"24px\">\n",
              "    <path d=\"M0 0h24v24H0V0z\" fill=\"none\"/>\n",
              "    <path d=\"M18.56 5.44l.94 2.06.94-2.06 2.06-.94-2.06-.94-.94-2.06-.94 2.06-2.06.94zm-11 1L8.5 8.5l.94-2.06 2.06-.94-2.06-.94L8.5 2.5l-.94 2.06-2.06.94zm10 10l.94 2.06.94-2.06 2.06-.94-2.06-.94-.94-2.06-.94 2.06-2.06.94z\"/><path d=\"M17.41 7.96l-1.37-1.37c-.4-.4-.92-.59-1.43-.59-.52 0-1.04.2-1.43.59L10.3 9.45l-7.72 7.72c-.78.78-.78 2.05 0 2.83L4 21.41c.39.39.9.59 1.41.59.51 0 1.02-.2 1.41-.59l7.78-7.78 2.81-2.81c.8-.78.8-2.07 0-2.86zM5.41 20L4 18.59l7.72-7.72 1.47 1.35L5.41 20z\"/>\n",
              "  </svg>\n",
              "      </button>\n",
              "      \n",
              "  <style>\n",
              "    .colab-df-container {\n",
              "      display:flex;\n",
              "      flex-wrap:wrap;\n",
              "      gap: 12px;\n",
              "    }\n",
              "\n",
              "    .colab-df-convert {\n",
              "      background-color: #E8F0FE;\n",
              "      border: none;\n",
              "      border-radius: 50%;\n",
              "      cursor: pointer;\n",
              "      display: none;\n",
              "      fill: #1967D2;\n",
              "      height: 32px;\n",
              "      padding: 0 0 0 0;\n",
              "      width: 32px;\n",
              "    }\n",
              "\n",
              "    .colab-df-convert:hover {\n",
              "      background-color: #E2EBFA;\n",
              "      box-shadow: 0px 1px 2px rgba(60, 64, 67, 0.3), 0px 1px 3px 1px rgba(60, 64, 67, 0.15);\n",
              "      fill: #174EA6;\n",
              "    }\n",
              "\n",
              "    [theme=dark] .colab-df-convert {\n",
              "      background-color: #3B4455;\n",
              "      fill: #D2E3FC;\n",
              "    }\n",
              "\n",
              "    [theme=dark] .colab-df-convert:hover {\n",
              "      background-color: #434B5C;\n",
              "      box-shadow: 0px 1px 3px 1px rgba(0, 0, 0, 0.15);\n",
              "      filter: drop-shadow(0px 1px 2px rgba(0, 0, 0, 0.3));\n",
              "      fill: #FFFFFF;\n",
              "    }\n",
              "  </style>\n",
              "\n",
              "      <script>\n",
              "        const buttonEl =\n",
              "          document.querySelector('#df-f305cd46-79d6-4484-a764-1d0a70d1c2b9 button.colab-df-convert');\n",
              "        buttonEl.style.display =\n",
              "          google.colab.kernel.accessAllowed ? 'block' : 'none';\n",
              "\n",
              "        async function convertToInteractive(key) {\n",
              "          const element = document.querySelector('#df-f305cd46-79d6-4484-a764-1d0a70d1c2b9');\n",
              "          const dataTable =\n",
              "            await google.colab.kernel.invokeFunction('convertToInteractive',\n",
              "                                                     [key], {});\n",
              "          if (!dataTable) return;\n",
              "\n",
              "          const docLinkHtml = 'Like what you see? Visit the ' +\n",
              "            '<a target=\"_blank\" href=https://colab.research.google.com/notebooks/data_table.ipynb>data table notebook</a>'\n",
              "            + ' to learn more about interactive tables.';\n",
              "          element.innerHTML = '';\n",
              "          dataTable['output_type'] = 'display_data';\n",
              "          await google.colab.output.renderOutput(dataTable, element);\n",
              "          const docLink = document.createElement('div');\n",
              "          docLink.innerHTML = docLinkHtml;\n",
              "          element.appendChild(docLink);\n",
              "        }\n",
              "      </script>\n",
              "    </div>\n",
              "  </div>\n",
              "  "
            ]
          },
          "metadata": {},
          "execution_count": 57
        }
      ]
    },
    {
      "cell_type": "markdown",
      "source": [
        "Linear Regression"
      ],
      "metadata": {
        "id": "cWe5SMu6CWe-"
      }
    },
    {
      "cell_type": "code",
      "source": [
        "train = pd.read_csv('processed_train.csv')\n",
        "train.drop(columns = ['Unnamed: 0'], inplace = True)\n",
        "y = pd.read_csv('label_train.csv')\n",
        "y = y['revenue']\n",
        "test = pd.read_csv('processed_test.csv')\n",
        "test.drop(columns = ['Unnamed: 0'], inplace = True)"
      ],
      "metadata": {
        "id": "LBGnbgeL1EFl"
      },
      "execution_count": null,
      "outputs": []
    },
    {
      "cell_type": "code",
      "source": [
        "test.fillna(test.mode().iloc[0], inplace = True)\n",
        "from sklearn.linear_model import LinearRegression\n",
        "from sklearn.preprocessing import StandardScaler, MinMaxScaler\n",
        "k=10\n",
        "kf = KFold(n_splits=k,\n",
        "            shuffle=True,\n",
        "            random_state=int(time.time()))\n",
        "\n",
        "list_of_train_index = []\n",
        "list_of_valid_index = []\n",
        "\n",
        "for train_index, valid_index in kf.split(np.zeros(len(y)), # Placeholder (dummy input)\n",
        "                                          y): # True input\n",
        "    \n",
        "    list_of_train_index.append(train_index)\n",
        "    list_of_valid_index.append(valid_index)\n",
        "\n",
        "\n",
        "preds_train = np.zeros([len(train),k])\n",
        "preds_val = np.zeros([len(list_of_valid_index[0]),k])\n",
        "preds_test = np.zeros([len(test),k])\n",
        "\n",
        "log_rmse_train = []\n",
        "log_rmse_val = []\n",
        "\n",
        "for j in tqdm(range(k)):   \n",
        "    x_train = train.loc[list_of_train_index[j], :]\n",
        "    x_valid = train.loc[list_of_valid_index[j], :]\n",
        "\n",
        "    #standard_scaler = StandardScaler()\n",
        "    # x_train_sca = standard_scaler.fit_transform(x_train)\n",
        "    # x_valid_sca = standard_scaler.transform(x_valid)\n",
        "    # x_test_sca = standard_scaler.transform(test)\n",
        "\n",
        "    y_true_train = y[list_of_train_index[j]]\n",
        "    y_true_valid = y[list_of_valid_index[j]]\n",
        "\n",
        "    LR = LinearRegression()\n",
        "    LR.fit(x_train,y_true_train)\n",
        "    preds_train[:,j] = LR.predict(train)\n",
        "    preds_val[:,j] = LR.predict(x_valid)\n",
        "    preds_test[:,j] = LR.predict(test)\n",
        "    \n",
        "    log_rmse_train.append(np.sqrt(mse(preds_train[:,j],y)))\n",
        "    log_rmse_val.append(np.sqrt(mse(preds_val[:,j],y_true_valid)))\n",
        "final_preds = preds_test.mean(axis=1)"
      ],
      "metadata": {
        "colab": {
          "base_uri": "https://localhost:8080/"
        },
        "id": "Gj1-jqFWCe9Y",
        "outputId": "44ace412-0823-4285-d63a-a1439506f522"
      },
      "execution_count": 6,
      "outputs": [
        {
          "output_type": "stream",
          "name": "stderr",
          "text": [
            "100%|██████████| 10/10 [00:03<00:00,  2.99it/s]\n"
          ]
        }
      ]
    },
    {
      "cell_type": "code",
      "source": [
        "np.mean(log_rmse_train)"
      ],
      "metadata": {
        "colab": {
          "base_uri": "https://localhost:8080/"
        },
        "id": "JE5kMaaJDOzU",
        "outputId": "ecb8e6ae-6281-43a1-96f7-c85d48399652"
      },
      "execution_count": 7,
      "outputs": [
        {
          "output_type": "execute_result",
          "data": {
            "text/plain": [
              "2.187451740155463"
            ]
          },
          "metadata": {},
          "execution_count": 7
        }
      ]
    },
    {
      "cell_type": "code",
      "source": [
        "np.mean(log_rmse_val)"
      ],
      "metadata": {
        "colab": {
          "base_uri": "https://localhost:8080/"
        },
        "id": "OfKVLLqeDVQF",
        "outputId": "7602b556-3209-4958-aa5a-948c15d7ac22"
      },
      "execution_count": 8,
      "outputs": [
        {
          "output_type": "execute_result",
          "data": {
            "text/plain": [
              "2.351295155384916"
            ]
          },
          "metadata": {},
          "execution_count": 8
        }
      ]
    },
    {
      "cell_type": "code",
      "source": [
        "sub = pd.read_csv('sample_submission.csv')\n",
        "sub.revenue = np.exp(final_preds)\n",
        "sub.to_csv('sub_LR.csv',index=False)\n",
        "sub"
      ],
      "metadata": {
        "colab": {
          "base_uri": "https://localhost:8080/",
          "height": 424
        },
        "id": "HBZ03lOZDZOg",
        "outputId": "b1da958d-9bfd-44b6-c36b-fcd3918eb1aa"
      },
      "execution_count": 10,
      "outputs": [
        {
          "output_type": "execute_result",
          "data": {
            "text/plain": [
              "        id       revenue\n",
              "0     3001  3.071147e+07\n",
              "1     3002  4.641879e+05\n",
              "2     3003  4.585603e+06\n",
              "3     3004  3.699388e+06\n",
              "4     3005  1.333989e+05\n",
              "...    ...           ...\n",
              "4393  7394  3.687311e+07\n",
              "4394  7395  3.721475e+07\n",
              "4395  7396  1.386875e+07\n",
              "4396  7397  1.544049e+06\n",
              "4397  7398  1.109507e+04\n",
              "\n",
              "[4398 rows x 2 columns]"
            ],
            "text/html": [
              "\n",
              "  <div id=\"df-458e0612-e769-4849-ab10-d6ac59699fb7\">\n",
              "    <div class=\"colab-df-container\">\n",
              "      <div>\n",
              "<style scoped>\n",
              "    .dataframe tbody tr th:only-of-type {\n",
              "        vertical-align: middle;\n",
              "    }\n",
              "\n",
              "    .dataframe tbody tr th {\n",
              "        vertical-align: top;\n",
              "    }\n",
              "\n",
              "    .dataframe thead th {\n",
              "        text-align: right;\n",
              "    }\n",
              "</style>\n",
              "<table border=\"1\" class=\"dataframe\">\n",
              "  <thead>\n",
              "    <tr style=\"text-align: right;\">\n",
              "      <th></th>\n",
              "      <th>id</th>\n",
              "      <th>revenue</th>\n",
              "    </tr>\n",
              "  </thead>\n",
              "  <tbody>\n",
              "    <tr>\n",
              "      <th>0</th>\n",
              "      <td>3001</td>\n",
              "      <td>3.071147e+07</td>\n",
              "    </tr>\n",
              "    <tr>\n",
              "      <th>1</th>\n",
              "      <td>3002</td>\n",
              "      <td>4.641879e+05</td>\n",
              "    </tr>\n",
              "    <tr>\n",
              "      <th>2</th>\n",
              "      <td>3003</td>\n",
              "      <td>4.585603e+06</td>\n",
              "    </tr>\n",
              "    <tr>\n",
              "      <th>3</th>\n",
              "      <td>3004</td>\n",
              "      <td>3.699388e+06</td>\n",
              "    </tr>\n",
              "    <tr>\n",
              "      <th>4</th>\n",
              "      <td>3005</td>\n",
              "      <td>1.333989e+05</td>\n",
              "    </tr>\n",
              "    <tr>\n",
              "      <th>...</th>\n",
              "      <td>...</td>\n",
              "      <td>...</td>\n",
              "    </tr>\n",
              "    <tr>\n",
              "      <th>4393</th>\n",
              "      <td>7394</td>\n",
              "      <td>3.687311e+07</td>\n",
              "    </tr>\n",
              "    <tr>\n",
              "      <th>4394</th>\n",
              "      <td>7395</td>\n",
              "      <td>3.721475e+07</td>\n",
              "    </tr>\n",
              "    <tr>\n",
              "      <th>4395</th>\n",
              "      <td>7396</td>\n",
              "      <td>1.386875e+07</td>\n",
              "    </tr>\n",
              "    <tr>\n",
              "      <th>4396</th>\n",
              "      <td>7397</td>\n",
              "      <td>1.544049e+06</td>\n",
              "    </tr>\n",
              "    <tr>\n",
              "      <th>4397</th>\n",
              "      <td>7398</td>\n",
              "      <td>1.109507e+04</td>\n",
              "    </tr>\n",
              "  </tbody>\n",
              "</table>\n",
              "<p>4398 rows × 2 columns</p>\n",
              "</div>\n",
              "      <button class=\"colab-df-convert\" onclick=\"convertToInteractive('df-458e0612-e769-4849-ab10-d6ac59699fb7')\"\n",
              "              title=\"Convert this dataframe to an interactive table.\"\n",
              "              style=\"display:none;\">\n",
              "        \n",
              "  <svg xmlns=\"http://www.w3.org/2000/svg\" height=\"24px\"viewBox=\"0 0 24 24\"\n",
              "       width=\"24px\">\n",
              "    <path d=\"M0 0h24v24H0V0z\" fill=\"none\"/>\n",
              "    <path d=\"M18.56 5.44l.94 2.06.94-2.06 2.06-.94-2.06-.94-.94-2.06-.94 2.06-2.06.94zm-11 1L8.5 8.5l.94-2.06 2.06-.94-2.06-.94L8.5 2.5l-.94 2.06-2.06.94zm10 10l.94 2.06.94-2.06 2.06-.94-2.06-.94-.94-2.06-.94 2.06-2.06.94z\"/><path d=\"M17.41 7.96l-1.37-1.37c-.4-.4-.92-.59-1.43-.59-.52 0-1.04.2-1.43.59L10.3 9.45l-7.72 7.72c-.78.78-.78 2.05 0 2.83L4 21.41c.39.39.9.59 1.41.59.51 0 1.02-.2 1.41-.59l7.78-7.78 2.81-2.81c.8-.78.8-2.07 0-2.86zM5.41 20L4 18.59l7.72-7.72 1.47 1.35L5.41 20z\"/>\n",
              "  </svg>\n",
              "      </button>\n",
              "      \n",
              "  <style>\n",
              "    .colab-df-container {\n",
              "      display:flex;\n",
              "      flex-wrap:wrap;\n",
              "      gap: 12px;\n",
              "    }\n",
              "\n",
              "    .colab-df-convert {\n",
              "      background-color: #E8F0FE;\n",
              "      border: none;\n",
              "      border-radius: 50%;\n",
              "      cursor: pointer;\n",
              "      display: none;\n",
              "      fill: #1967D2;\n",
              "      height: 32px;\n",
              "      padding: 0 0 0 0;\n",
              "      width: 32px;\n",
              "    }\n",
              "\n",
              "    .colab-df-convert:hover {\n",
              "      background-color: #E2EBFA;\n",
              "      box-shadow: 0px 1px 2px rgba(60, 64, 67, 0.3), 0px 1px 3px 1px rgba(60, 64, 67, 0.15);\n",
              "      fill: #174EA6;\n",
              "    }\n",
              "\n",
              "    [theme=dark] .colab-df-convert {\n",
              "      background-color: #3B4455;\n",
              "      fill: #D2E3FC;\n",
              "    }\n",
              "\n",
              "    [theme=dark] .colab-df-convert:hover {\n",
              "      background-color: #434B5C;\n",
              "      box-shadow: 0px 1px 3px 1px rgba(0, 0, 0, 0.15);\n",
              "      filter: drop-shadow(0px 1px 2px rgba(0, 0, 0, 0.3));\n",
              "      fill: #FFFFFF;\n",
              "    }\n",
              "  </style>\n",
              "\n",
              "      <script>\n",
              "        const buttonEl =\n",
              "          document.querySelector('#df-458e0612-e769-4849-ab10-d6ac59699fb7 button.colab-df-convert');\n",
              "        buttonEl.style.display =\n",
              "          google.colab.kernel.accessAllowed ? 'block' : 'none';\n",
              "\n",
              "        async function convertToInteractive(key) {\n",
              "          const element = document.querySelector('#df-458e0612-e769-4849-ab10-d6ac59699fb7');\n",
              "          const dataTable =\n",
              "            await google.colab.kernel.invokeFunction('convertToInteractive',\n",
              "                                                     [key], {});\n",
              "          if (!dataTable) return;\n",
              "\n",
              "          const docLinkHtml = 'Like what you see? Visit the ' +\n",
              "            '<a target=\"_blank\" href=https://colab.research.google.com/notebooks/data_table.ipynb>data table notebook</a>'\n",
              "            + ' to learn more about interactive tables.';\n",
              "          element.innerHTML = '';\n",
              "          dataTable['output_type'] = 'display_data';\n",
              "          await google.colab.output.renderOutput(dataTable, element);\n",
              "          const docLink = document.createElement('div');\n",
              "          docLink.innerHTML = docLinkHtml;\n",
              "          element.appendChild(docLink);\n",
              "        }\n",
              "      </script>\n",
              "    </div>\n",
              "  </div>\n",
              "  "
            ]
          },
          "metadata": {},
          "execution_count": 10
        }
      ]
    },
    {
      "cell_type": "code",
      "source": [
        "coef = LR.coef_\n",
        "feature = LR.feature_names_in_\n",
        "coef_feature = zip(coef,feature)\n",
        "sort_coef = sorted(coef_feature,key = lambda x: abs(x[0]),reverse=True)[:30]\n",
        "res = list(zip(*sort_coef))\n",
        "import matplotlib.pyplot as plt\n",
        "import seaborn as sns\n",
        "fig = plt.figure(figsize = (16,10))\n",
        "ax = sns.barplot(x = list(res[1]),y = list(res[0]))\n",
        "ax.tick_params(axis = 'x',rotation = 90)"
      ],
      "metadata": {
        "colab": {
          "base_uri": "https://localhost:8080/",
          "height": 819
        },
        "id": "OvE7en1qHpL4",
        "outputId": "77aecf5c-4e32-47d6-d2ce-7ee41ff29f09"
      },
      "execution_count": 9,
      "outputs": [
        {
          "output_type": "display_data",
          "data": {
            "text/plain": [
              "<Figure size 1152x720 with 1 Axes>"
            ],
            "image/png": "[encoded data removed]"
          },
          "metadata": {
            "needs_background": "light"
          }
        }
      ]
    }
  ]
}